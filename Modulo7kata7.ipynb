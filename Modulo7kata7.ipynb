{
 "cells": [
  {
   "cell_type": "code",
   "execution_count": null,
   "metadata": {},
   "outputs": [],
   "source": [
    "planets = []\n",
    "new_planet = ''\n",
    "while new_planet != 'done':\n",
    "    new_planet = input('Write a planet of the solar system: ').lower()\n",
    "    #['Mercury', 'Venus', 'Earth', 'Mars', 'Jupiter', 'Saturn', 'Uranus', 'Neptune']\n",
    "    if new_planet == 'mercury':\n",
    "        planets.append(new_planet)\n",
    "    elif new_planet == 'earth':\n",
    "        planets.append(new_planet)\n",
    "    elif new_planet == 'mars':\n",
    "        planets.append(new_planet)\n",
    "    elif new_planet == 'jupiter':\n",
    "        planets.append(new_planet)\n",
    "    elif new_planet == 'saturn':\n",
    "        planets.append(new_planet)\n",
    "    elif new_planet == 'uranus':\n",
    "        planets.append(new_planet)\n",
    "    elif new_planet == 'neptune':\n",
    "        planets.append(new_planet)\n",
    "    else:\n",
    "        continue\n",
    "for planet in planets:\n",
    "    print(planet)"
   ]
  }
 ],
 "metadata": {
  "interpreter": {
   "hash": "12cfbcfc427fbdf940658131b907ccae4512be1ff580dd9dd9991e33d3afe35f"
  },
  "kernelspec": {
   "display_name": "Python 3.10.2 64-bit",
   "language": "python",
   "name": "python3"
  },
  "language_info": {
   "codemirror_mode": {
    "name": "ipython",
    "version": 3
   },
   "file_extension": ".py",
   "mimetype": "text/x-python",
   "name": "python",
   "nbconvert_exporter": "python",
   "pygments_lexer": "ipython3",
   "version": "3.10.0"
  },
  "orig_nbformat": 4
 },
 "nbformat": 4,
 "nbformat_minor": 2
}
