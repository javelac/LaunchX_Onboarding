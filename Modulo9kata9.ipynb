{
 "cells": [
  {
   "cell_type": "markdown",
   "metadata": {},
   "source": [
    "### Ejercicio 1"
   ]
  },
  {
   "cell_type": "code",
   "execution_count": 18,
   "metadata": {},
   "outputs": [
    {
     "name": "stdout",
     "output_type": "stream",
     "text": [
      "('El promedio total de los 3 taques es: ', 61.666666666666664)\n"
     ]
    }
   ],
   "source": [
    "def informe(tanque_1, tanque_2, tanque_3):\n",
    "    promedio = (tanque_1+tanque_2+tanque_3)/3\n",
    "    return 'El promedio total de los 3 taques es: ',promedio\n",
    "\n",
    "print(informe(70,50,65))"
   ]
  },
  {
   "cell_type": "code",
   "execution_count": 19,
   "metadata": {},
   "outputs": [],
   "source": [
    "def promedio(tanque_1, tanque_2, tanque_3):\n",
    "    promedio = (tanque_1+tanque_2+tanque_3)/3\n",
    "    return 'El promedio total de los 3 taques es: ',promedio"
   ]
  },
  {
   "cell_type": "code",
   "execution_count": 20,
   "metadata": {},
   "outputs": [
    {
     "name": "stdout",
     "output_type": "stream",
     "text": [
      "('El promedio total de los 3 taques es: ', 42.333333333333336)\n",
      "El tanque 1 tiene 33 %\n",
      "El tanque 2 tiene 50 %\n",
      "El tanque 3 tiene 44 %\n"
     ]
    }
   ],
   "source": [
    "def informe(tanque1,tanque2,tanque3):\n",
    "    print(promedio(tanque1,tanque2,tanque3))\n",
    "    print('El tanque 1 tiene',tanque1,'%')\n",
    "    print('El tanque 2 tiene',tanque2,'%')\n",
    "    print('El tanque 3 tiene',tanque3,'%')\n",
    "\n",
    "informe(33,50,44)"
   ]
  },
  {
   "cell_type": "markdown",
   "metadata": {},
   "source": [
    "### Ejercicio 2"
   ]
  },
  {
   "cell_type": "code",
   "execution_count": 21,
   "metadata": {},
   "outputs": [
    {
     "data": {
      "text/plain": [
       "'La hora de prelanzamiento es: 15\\n    El tiempo de vuelo es 56,\\n    El destino es: Marte\\n    El porcentaje de combustible en el tanque externo es:100\\n    El porcentaje de combustible en el tanque interno es:100%'"
      ]
     },
     "execution_count": 21,
     "metadata": {},
     "output_type": "execute_result"
    }
   ],
   "source": [
    "def informe_completo(hora_prelanzamiento, tiempo_de_vuelo, destino, tanque_externo, tanque_interno):\n",
    "    return f\"\"\"La hora de prelanzamiento es: {hora_prelanzamiento}\n",
    "    El tiempo de vuelo es {tiempo_de_vuelo}\n",
    "    El destino es: {destino}\n",
    "    El porcentaje de combustible en el tanque externo es:{tanque_externo}%\n",
    "    El porcentaje de combustible en el tanque interno es:{tanque_interno}%\"\"\"\n",
    "\n",
    "informe_completo(15,56,'Marte',100,100)"
   ]
  },
  {
   "cell_type": "code",
   "execution_count": 27,
   "metadata": {},
   "outputs": [
    {
     "name": "stdout",
     "output_type": "stream",
     "text": [
      "\n",
      "    Mision Marte\n",
      "    Tiempo de vuelo total: 213 minutos\n",
      "    Reservaciones totales: 120000\n",
      "    \n"
     ]
    }
   ],
   "source": [
    "def informe_completo(destino, *minutos, **fuel_reservoirs):\n",
    "    return f\"\"\"\n",
    "    Mision {destino}\n",
    "    Tiempo de vuelo total: {sum(minutos)} minutos\n",
    "    Reservaciones totales: {sum(fuel_reservoirs.values())}\n",
    "    \"\"\"\n",
    "\n",
    "print(informe_completo(\"Marte\", 23, 100, 90, main=40000, external=80000))"
   ]
  }
 ],
 "metadata": {
  "interpreter": {
   "hash": "12cfbcfc427fbdf940658131b907ccae4512be1ff580dd9dd9991e33d3afe35f"
  },
  "kernelspec": {
   "display_name": "Python 3.10.2 64-bit",
   "language": "python",
   "name": "python3"
  },
  "language_info": {
   "codemirror_mode": {
    "name": "ipython",
    "version": 3
   },
   "file_extension": ".py",
   "mimetype": "text/x-python",
   "name": "python",
   "nbconvert_exporter": "python",
   "pygments_lexer": "ipython3",
   "version": "3.10.2"
  },
  "orig_nbformat": 4
 },
 "nbformat": 4,
 "nbformat_minor": 2
}
