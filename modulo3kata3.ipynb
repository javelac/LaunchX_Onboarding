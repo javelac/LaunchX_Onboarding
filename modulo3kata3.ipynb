{
 "cells": [
  {
   "cell_type": "markdown",
   "metadata": {},
   "source": [
    "# Kata 3 \n",
    "# Ejercicio - Escribir declaraciones if, else, y elif"
   ]
  },
  {
   "cell_type": "code",
   "execution_count": null,
   "metadata": {},
   "outputs": [],
   "source": [
    "vel_asteroide = 49\n",
    "if vel_asteroide >= 25:\n",
    "    print(\"Advertencia.Se acerca un asteroide a velocidad de  :\" + str(vel_asteroide) + \" Km/s\")\n",
    "else:\n",
    "    print(\"Todo esta normal\")"
   ]
  },
  {
   "cell_type": "code",
   "execution_count": null,
   "metadata": {},
   "outputs": [],
   "source": [
    "vel_asteroide = 19\n",
    "if vel_asteroide >= 20:\n",
    "    print(\"Un Asteroide se acerca a la Tierra Busquen en el cielo ya que sera visible con un rayo de luz\")\n",
    "elif vel_asteroide <=19:\n",
    "    print(\"Se acerca un asteroide a la  tierra a una velocidad menor de 20 km/s  , por lo que no sera visible en el cielo\")\n",
    "else:\n",
    "    print(\"No  hay nada cerca.\")"
   ]
  },
  {
   "cell_type": "markdown",
   "metadata": {},
   "source": [
    "# Ejercicio: Uso de operadores and y or"
   ]
  },
  {
   "cell_type": "code",
   "execution_count": 29,
   "metadata": {},
   "outputs": [
    {
     "name": "stdout",
     "output_type": "stream",
     "text": [
      "Peligro se acerca un asteroide a la tierra que podria causar Grandes daños\n"
     ]
    }
   ],
   "source": [
    "vel_asteroide = 125\n",
    "tam_asteroide = 26\n",
    "if tam_asteroide > 25 and  vel_asteroide >=25:\n",
    "    print(\"Peligro se acerca un asteroide a la tierra que podria causar grandes daños\")\n",
    "elif vel_asteroide >=20 :\n",
    "    print(\"Se acerca un asteoride , sera  visible en la tierra como un destello de luz , No hay Peligro\")\n",
    "elif tam_asteroide <=25 :\n",
    "    print(\"Se acerca un asteoride , no sera visible en la tierra , No hay Peligro\") \n",
    "else:\n",
    "    print(\"No hay peligro\")"
   ]
  }
 ],
 "metadata": {
  "interpreter": {
   "hash": "2ca982b90bfc02cf4a07f09e9190a62f6c7ca1183945b97e97592ad2ab57bdd0"
  },
  "kernelspec": {
   "display_name": "Python 3.10.0 64-bit",
   "language": "python",
   "name": "python3"
  },
  "language_info": {
   "codemirror_mode": {
    "name": "ipython",
    "version": 3
   },
   "file_extension": ".py",
   "mimetype": "text/x-python",
   "name": "python",
   "nbconvert_exporter": "python",
   "pygments_lexer": "ipython3",
   "version": "3.10.2"
  },
  "orig_nbformat": 4
 },
 "nbformat": 4,
 "nbformat_minor": 2
}
