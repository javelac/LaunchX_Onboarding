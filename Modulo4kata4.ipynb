{
 "cells": [
  {
   "cell_type": "markdown",
   "metadata": {},
   "source": [
    "# Kata 4\n",
    "# Transformar cadenas"
   ]
  },
  {
   "cell_type": "code",
   "execution_count": 45,
   "metadata": {},
   "outputs": [
    {
     "name": "stdout",
     "output_type": "stream",
     "text": [
      "['interesting facts about the moon', \" the moon is earth's only satellite\", ' there are several interesting facts about the moon and how it affects life here on earth', ' \\non average, the moon moves 4cm away from the earth every year', ' this yearly drift is not significant enough to cause immediate effects on earth', ' the highest daylight temperature of the moon is 127 c', '']\n"
     ]
    }
   ],
   "source": [
    "\n",
    "\n",
    "text = \"\"\"Interesting facts about the Moon. The Moon is Earth's only satellite. There are several interesting facts about the Moon and how it affects life here on Earth. \n",
    "On average, the Moon moves 4cm away from the Earth every year. This yearly drift is not significant enough to cause immediate effects on Earth. The highest daylight temperature of the Moon is 127 C.\"\"\"\n",
    "# Dividir texto por oraciones\n",
    "min = text.lower()\n",
    "lista = min.split('.')\n",
    "print(lista)\n"
   ]
  },
  {
   "cell_type": "code",
   "execution_count": 46,
   "metadata": {},
   "outputs": [
    {
     "data": {
      "text/plain": [
       "('average', 'temperature', False)"
      ]
     },
     "execution_count": 46,
     "metadata": {},
     "output_type": "execute_result"
    }
   ],
   "source": [
    "# Define las palabras pista: average, temperature y distance suenan bien\n",
    "'average', 'temperature', 'distance'in lista"
   ]
  },
  {
   "cell_type": "code",
   "execution_count": 47,
   "metadata": {},
   "outputs": [
    {
     "name": "stdout",
     "output_type": "stream",
     "text": [
      " \n",
      "on average, the moon moves 4cm away from the earth every year\n"
     ]
    }
   ],
   "source": [
    "for item in lista:\n",
    "    if item.count('average'):\n",
    "        print(item)"
   ]
  },
  {
   "cell_type": "code",
   "execution_count": 48,
   "metadata": {},
   "outputs": [
    {
     "name": "stdout",
     "output_type": "stream",
     "text": [
      " the highest daylight temperature of the moon is 127 c\n"
     ]
    }
   ],
   "source": [
    "for item in lista:\n",
    "    if item.count('temperature'):\n",
    "        print(item)"
   ]
  },
  {
   "cell_type": "code",
   "execution_count": 49,
   "metadata": {},
   "outputs": [
    {
     "name": "stdout",
     "output_type": "stream",
     "text": [
      "...\n",
      "...\n",
      "...\n",
      "...\n",
      "...\n",
      "...\n",
      "...\n"
     ]
    }
   ],
   "source": [
    "\n",
    "\n",
    "for item in lista:\n",
    "    if item.count('distance'):\n",
    "        print(item)\n",
    "    else:\n",
    "        print('...')\n",
    "\n"
   ]
  },
  {
   "cell_type": "code",
   "execution_count": 50,
   "metadata": {},
   "outputs": [
    {
     "name": "stdout",
     "output_type": "stream",
     "text": [
      "...\n",
      "...\n",
      "...\n",
      "...\n",
      "...\n",
      " the highest daylight temperature of the moon is 127 celcius\n",
      "...\n"
     ]
    }
   ],
   "source": [
    "for item in lista:\n",
    "    if item.endswith(' c'):\n",
    "        print(item.replace(' c',' celcius'))\n",
    "    else:\n",
    "        print('...')"
   ]
  },
  {
   "cell_type": "markdown",
   "metadata": {},
   "source": [
    "\n",
    "# Formateando Cadenas\n"
   ]
  },
  {
   "cell_type": "code",
   "execution_count": 51,
   "metadata": {},
   "outputs": [],
   "source": [
    "# Datos con los que vas a trabajar\n",
    "name = \"Moon\"\n",
    "gravity = 0.00162 # in kms\n",
    "planet = \"Earth\""
   ]
  },
  {
   "cell_type": "code",
   "execution_count": 52,
   "metadata": {},
   "outputs": [
    {
     "name": "stdout",
     "output_type": "stream",
     "text": [
      "\n",
      "-------------------------------------------------------\n",
      "Planet: Earth\n",
      "Gravity: 1.6199999999999999\n",
      "Name: Moon\n"
     ]
    }
   ],
   "source": [
    "# Título\n",
    "title= (f\"the gravity of the {planet}'s {name}\").title()\n",
    "\n",
    "facts = f\"\"\"\n",
    "-------------------------------------------------------\n",
    "Planet: {planet}\n",
    "Gravity: {gravity*1000}\n",
    "Name: {name}\"\"\"\n",
    "\n",
    "print(facts)"
   ]
  },
  {
   "cell_type": "code",
   "execution_count": 53,
   "metadata": {},
   "outputs": [
    {
     "name": "stdout",
     "output_type": "stream",
     "text": [
      "The Gravity Of The Earth'S Moon\n",
      "-------------------------------------------------------\n",
      "Planet: Earth\n",
      "Gravity: 1.6199999999999999\n",
      "Name: Moon\n"
     ]
    }
   ],
   "source": [
    "template = title + facts\n",
    "print(template)"
   ]
  },
  {
   "cell_type": "code",
   "execution_count": 54,
   "metadata": {},
   "outputs": [],
   "source": [
    "planet = 'Mars'\n",
    "gravity = 0.00143\n",
    "name = 'Ganimede'"
   ]
  },
  {
   "cell_type": "code",
   "execution_count": 55,
   "metadata": {},
   "outputs": [
    {
     "name": "stdout",
     "output_type": "stream",
     "text": [
      "The Gravity Of The Earth'S Moon\n",
      "-------------------------------------------------------\n",
      "Planet: Earth\n",
      "Gravity: 1.6199999999999999\n",
      "Name: Moon\n"
     ]
    }
   ],
   "source": [
    "print(template)"
   ]
  },
  {
   "cell_type": "code",
   "execution_count": 57,
   "metadata": {},
   "outputs": [
    {
     "name": "stdout",
     "output_type": "stream",
     "text": [
      "The Gravity Of The Mars'S Ganymede\n",
      "-------------------------------------------------------\n",
      "Planet: Mars\n",
      "Gravity: 1.4300000000000002\n",
      "Name: Ganymede\n"
     ]
    }
   ],
   "source": [
    "title= (f\"the gravity of the {planet}'s {name}\").title()\n",
    "\n",
    "facts = f\"\"\"\n",
    "-------------------------------------------------------\n",
    "Planet: {planet}\n",
    "Gravity: {gravity*1000}\n",
    "Name: {name}\"\"\"\n",
    "second_template = title + facts\n",
    "print(second_template.format(planet,gravity,name))"
   ]
  }
 ],
 "metadata": {
  "language_info": {
   "name": "python"
  },
  "orig_nbformat": 4
 },
 "nbformat": 4,
 "nbformat_minor": 2
}
