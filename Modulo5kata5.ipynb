{
 "cells": [
  {
   "cell_type": "markdown",
   "metadata": {},
   "source": [
    "# Kata 5\n",
    "Operadores aritméticos en Python"
   ]
  },
  {
   "cell_type": "markdown",
   "metadata": {},
   "source": [
    "### Ejercicio 1"
   ]
  },
  {
   "cell_type": "code",
   "execution_count": 18,
   "metadata": {},
   "outputs": [
    {
     "name": "stdout",
     "output_type": "stream",
     "text": [
      "Distancia en Kilómetros: 628949330\n",
      "Distancia em Millas: 390577534\n"
     ]
    }
   ],
   "source": [
    "from math import ceil\n",
    "\n",
    "tierra = 149597870 \n",
    "jupiter = 778547200\n",
    "distancia_planetas_km = abs(tierra-jupiter)\n",
    "print(f'Distancia en Kilómetros: {tierra-jupiter}')\n",
    "distancia_planetas_millas = ceil(distancia_planetas*0.621)\n",
    "print(f'Distancia em Millas: {abs(distancia_planetas_millas)}')"
   ]
  },
  {
   "cell_type": "markdown",
   "metadata": {},
   "source": [
    "### Ejercicio 2"
   ]
  },
  {
   "cell_type": "code",
   "execution_count": 10,
   "metadata": {},
   "outputs": [
    {
     "name": "stdout",
     "output_type": "stream",
     "text": [
      "Distancia entre planetas en km: 628949330\n",
      "Distancia entre planetas en millas: 390577534\n"
     ]
    }
   ],
   "source": [
    "str_tierra = input('Cual es la distancia de la Tierra con el sol? ')\n",
    "str_jupiter = input('Cual es la distancia de Jupiter con el sol? ')\n",
    "int_tierra = int(str_tierra)\n",
    "int_jupiter = int(str_jupiter)\n",
    "distancia_planetas_km = abs(int_tierra-int_jupiter)\n",
    "print(f'Distancia entre planetas en km: {distancia_planetas_km}')\n",
    "distancia_planetas_millas = ceil(distancia_planetas_km*0.621)\n",
    "print(f'Distancia entre planetas en millas: {abs(distancia_planetas_millas)}')\n",
    "\n"
   ]
  },
  {
   "cell_type": "code",
   "execution_count": 12,
   "metadata": {},
   "outputs": [
    {
     "name": "stdout",
     "output_type": "stream",
     "text": [
      "Distancia entre planetas en km: 628949330\n",
      "Distancia entre planetas en millas: 390577534\n"
     ]
    }
   ],
   "source": [
    "# Tierra y Jupiter\n",
    "str_planeta_1 = input('Cual es la distancia del sol al planeta 1? ')\n",
    "str_planeta_2 = input('Cual es la distancia del sol al planeta 2? ')\n",
    "int_planeta_1 = int(str_planeta_1)\n",
    "int_planeta_2 = int(str_planeta_2)\n",
    "distancia_planetas_km = abs(int_planeta_1-int_planeta_2)\n",
    "print(f'Distancia entre planetas en km: {distancia_planetas_km}')\n",
    "distancia_planetas_millas = ceil(distancia_planetas_km*0.621)\n",
    "print(f'Distancia entre planetas en millas: {abs(distancia_planetas_millas)}')\n"
   ]
  },
  {
   "cell_type": "code",
   "execution_count": 13,
   "metadata": {},
   "outputs": [
    {
     "name": "stdout",
     "output_type": "stream",
     "text": [
      "Distancia entre planetas en km: 50300000\n",
      "Distancia entre planetas en millas: 31236300\n"
     ]
    }
   ],
   "source": [
    "# Mercurio y Venus\n",
    "str_planeta_1 = input('Cual es la distancia del sol al planeta 1? ')\n",
    "str_planeta_2 = input('Cual es la distancia del sol al planeta 2? ')\n",
    "int_planeta_1 = int(str_planeta_1)\n",
    "int_planeta_2 = int(str_planeta_2)\n",
    "distancia_planetas_km = abs(int_planeta_1-int_planeta_2)\n",
    "print(f'Distancia entre planetas en km: {distancia_planetas_km}')\n",
    "distancia_planetas_millas = ceil(distancia_planetas_km*0.621)\n",
    "print(f'Distancia entre planetas en millas: {abs(distancia_planetas_millas)}')"
   ]
  },
  {
   "cell_type": "code",
   "execution_count": 14,
   "metadata": {},
   "outputs": [
    {
     "name": "stdout",
     "output_type": "stream",
     "text": [
      "Distancia entre planetas en km: 78300000\n",
      "Distancia entre planetas en millas: 48624300\n"
     ]
    }
   ],
   "source": [
    "# Tierra y Marte\n",
    "str_planeta_1 = input('Cual es la distancia del sol al planeta 1? ')\n",
    "str_planeta_2 = input('Cual es la distancia del sol al planeta 2? ')\n",
    "int_planeta_1 = int(str_planeta_1)\n",
    "int_planeta_2 = int(str_planeta_2)\n",
    "distancia_planetas_km = abs(int_planeta_1-int_planeta_2)\n",
    "print(f'Distancia entre planetas en km: {distancia_planetas_km}')\n",
    "distancia_planetas_millas = ceil(distancia_planetas_km*0.621)\n",
    "print(f'Distancia entre planetas en millas: {abs(distancia_planetas_millas)}')"
   ]
  },
  {
   "cell_type": "code",
   "execution_count": 15,
   "metadata": {},
   "outputs": [
    {
     "name": "stdout",
     "output_type": "stream",
     "text": [
      "Distancia entre planetas en km: 654900000\n",
      "Distancia entre planetas en millas: 406692900\n"
     ]
    }
   ],
   "source": [
    "# Jupiter y Saturno\n",
    "str_planeta_1 = input('Cual es la distancia del sol al planeta 1? ')\n",
    "str_planeta_2 = input('Cual es la distancia del sol al planeta 2? ')\n",
    "int_planeta_1 = int(str_planeta_1)\n",
    "int_planeta_2 = int(str_planeta_2)\n",
    "distancia_planetas_km = abs(int_planeta_1-int_planeta_2)\n",
    "print(f'Distancia entre planetas en km: {distancia_planetas_km}')\n",
    "distancia_planetas_millas = ceil(distancia_planetas_km*0.621)\n",
    "print(f'Distancia entre planetas en millas: {abs(distancia_planetas_millas)}')"
   ]
  },
  {
   "cell_type": "code",
   "execution_count": 16,
   "metadata": {},
   "outputs": [
    {
     "name": "stdout",
     "output_type": "stream",
     "text": [
      "Distancia entre planetas en km: 1622600000\n",
      "Distancia entre planetas en millas: 1007634600\n"
     ]
    }
   ],
   "source": [
    "# Urano y Neptuno\n",
    "str_planeta_1 = input('Cual es la distancia del sol al planeta 1? ')\n",
    "str_planeta_2 = input('Cual es la distancia del sol al planeta 2? ')\n",
    "int_planeta_1 = int(str_planeta_1)\n",
    "int_planeta_2 = int(str_planeta_2)\n",
    "distancia_planetas_km = abs(int_planeta_1-int_planeta_2)\n",
    "print(f'Distancia entre planetas en km: {distancia_planetas_km}')\n",
    "distancia_planetas_millas = ceil(distancia_planetas_km*0.621)\n",
    "print(f'Distancia entre planetas en millas: {abs(distancia_planetas_millas)}')"
   ]
  },
  {
   "cell_type": "code",
   "execution_count": 17,
   "metadata": {},
   "outputs": [
    {
     "name": "stdout",
     "output_type": "stream",
     "text": [
      "Distancia entre planetas en km: 4437200000\n",
      "Distancia entre planetas en millas: 2755501200\n"
     ]
    }
   ],
   "source": [
    "# Mercurio y Neptuno \n",
    "str_planeta_1 = input('Cual es la distancia del sol al planeta 1? ')\n",
    "str_planeta_2 = input('Cual es la distancia del sol al planeta 2? ')\n",
    "int_planeta_1 = int(str_planeta_1)\n",
    "int_planeta_2 = int(str_planeta_2)\n",
    "distancia_planetas_km = abs(int_planeta_1-int_planeta_2)\n",
    "print(f'Distancia entre planetas en km: {distancia_planetas_km}')\n",
    "distancia_planetas_millas = ceil(distancia_planetas_km*0.621)\n",
    "print(f'Distancia entre planetas en millas: {abs(distancia_planetas_millas)}')"
   ]
  }
 ],
 "metadata": {
  "interpreter": {
   "hash": "12cfbcfc427fbdf940658131b907ccae4512be1ff580dd9dd9991e33d3afe35f"
  },
  "kernelspec": {
   "display_name": "Python 3.10.2 64-bit",
   "language": "python",
   "name": "python3"
  },
  "language_info": {
   "codemirror_mode": {
    "name": "ipython",
    "version": 3
   },
   "file_extension": ".py",
   "mimetype": "text/x-python",
   "name": "python",
   "nbconvert_exporter": "python",
   "pygments_lexer": "ipython3",
   "version": "3.10.2"
  },
  "orig_nbformat": 4
 },
 "nbformat": 4,
 "nbformat_minor": 2
}
